{
  "cells": [
    {
      "cell_type": "markdown",
      "id": "01dbf404-ef3e-46a3-9597-bae1894a94e1",
      "metadata": {
        "id": "01dbf404-ef3e-46a3-9597-bae1894a94e1"
      },
      "source": [
        "# Interactive Plot for Cosmic Dynamics"
      ]
    },
    {
      "cell_type": "markdown",
      "id": "9ac72542-8a9a-40fa-9994-1dd66871be29",
      "metadata": {
        "id": "9ac72542-8a9a-40fa-9994-1dd66871be29"
      },
      "source": [
        "Keith Chiang"
      ]
    },
    {
      "cell_type": "markdown",
      "id": "4a63992f-1cb2-413e-8459-eb31fa6f2128",
      "metadata": {
        "id": "4a63992f-1cb2-413e-8459-eb31fa6f2128"
      },
      "source": [
        "### Initializing the Notebook"
      ]
    },
    {
      "cell_type": "code",
      "source": [],
      "metadata": {
        "id": "3WtrHlznnmH4"
      },
      "id": "3WtrHlznnmH4",
      "execution_count": null,
      "outputs": []
    },
    {
      "cell_type": "markdown",
      "id": "783ce2db-1afc-48b7-b6fe-be8080fd8e9c",
      "metadata": {
        "id": "783ce2db-1afc-48b7-b6fe-be8080fd8e9c"
      },
      "source": [
        "#### Goal"
      ]
    },
    {
      "cell_type": "markdown",
      "id": "02fff22f-8899-4944-89bf-fdf805d3a14e",
      "metadata": {
        "id": "02fff22f-8899-4944-89bf-fdf805d3a14e"
      },
      "source": [
        "The goal of this project is to create a Jupyter notebook that simulates the evolution of the universe by integrating the Friedman equation. The notebook will provide an interactive platform for visualizing how the scale factor changes over time and how different cosmic parameters, such as the matter density parameter dark energy density parameter and the Hubble constant affect the expansion of the universe.he universe."
      ]
    },
    {
      "cell_type": "markdown",
      "id": "ca552e96-90b6-4a2c-8a1e-a7bd84c65600",
      "metadata": {
        "id": "ca552e96-90b6-4a2c-8a1e-a7bd84c65600"
      },
      "source": [
        "The Friedman equation is a fundamental equation in cosmology that describes the expansion of the universe. Understanding the impact of various cosmic parameters on the evolution of the universe is essential for students and researchers in cosmology and astrophysics. By providing a simulation of the equation, this project will offer a valuable educational tool for exploring cosmic dynamics and developing a deeper understanding of the history and future of the universe."
      ]
    },
    {
      "cell_type": "code",
      "execution_count": null,
      "id": "40560e8c-0173-498d-957e-707a9e2b586b",
      "metadata": {
        "id": "40560e8c-0173-498d-957e-707a9e2b586b"
      },
      "outputs": [],
      "source": [
        "import numpy as np\n",
        "import matplotlib.pyplot as plt\n",
        "from scipy.integrate import odeint\n",
        "import ipywidgets as widgets\n",
        "from ipywidgets import interact"
      ]
    },
    {
      "cell_type": "markdown",
      "id": "e64d0a55-779a-4704-9089-d5f5052c289b",
      "metadata": {
        "id": "e64d0a55-779a-4704-9089-d5f5052c289b"
      },
      "source": [
        "### The Friedman Equation"
      ]
    },
    {
      "cell_type": "markdown",
      "id": "2d5002e7-1e0e-4cf5-90c8-003464e2de34",
      "metadata": {
        "id": "2d5002e7-1e0e-4cf5-90c8-003464e2de34"
      },
      "source": [
        "The Friedman equation is a key equation in cosmology that describes the expansion of the universe. It is based on the Robertson-Walker metric, which assumes a homogeneous and isotropic universe. The equation is expressed as:"
      ]
    },
    {
      "cell_type": "markdown",
      "id": "3d7ce117-1cbb-4a72-9e08-e2af75315e0d",
      "metadata": {
        "id": "3d7ce117-1cbb-4a72-9e08-e2af75315e0d"
      },
      "source": [
        "$ \\left(\\frac{\\dot{a}}{a}\\right)^2 = H_0^2 \\left(\\Omega_m \\cdot a^{-3} + \\Omega_\\Lambda + (1 - \\Omega_m - \\Omega_\\Lambda) \\cdot a^{-2} \\right) $"
      ]
    },
    {
      "cell_type": "markdown",
      "id": "efe6c15c-5a13-4008-86af-9597be5edbc1",
      "metadata": {
        "id": "efe6c15c-5a13-4008-86af-9597be5edbc1"
      },
      "source": [
        "- **$a(t)$**: The scale factor at time \\(t\\), representing the relative size of the universe.\n",
        "- **$a$**: The scale factor now.\n",
        "- **$H_{0}$**: The Hubble constant, which measures the current rate of expansion of the universe.\n",
        "- **$Ω_{m}$**: The matter density parameter, representing the contribution of matter (both dark and ordinary) to the total energy density of the universe.\n",
        "- **$Ω_{Λ}$**: The dark energy density parameter, representing the contribution of dark energy to the total energy density of the universe."
      ]
    },
    {
      "cell_type": "markdown",
      "id": "abb51a2c-b512-4716-826a-ba8492e8865c",
      "metadata": {
        "id": "abb51a2c-b512-4716-826a-ba8492e8865c"
      },
      "source": [
        "To observe how the scale factor changes over time, we have the following function, which is derived from the friedman equation solving for $\\dot{a}$:"
      ]
    },
    {
      "cell_type": "markdown",
      "id": "98b9b637-989f-42fa-9dc0-59b5329f4492",
      "metadata": {
        "id": "98b9b637-989f-42fa-9dc0-59b5329f4492"
      },
      "source": [
        "$ \\dot{a} = a \\cdot H_0 \\cdot \\sqrt{(\\Omega_m \\cdot a^{-3} + \\Omega_\\Lambda + (1 - \\Omega_m - \\Omega_\\Lambda) \\cdot a^{-2}} $"
      ]
    },
    {
      "cell_type": "code",
      "execution_count": null,
      "id": "1b414a0e-152c-46ee-8fec-1c1f958fa45c",
      "metadata": {
        "id": "1b414a0e-152c-46ee-8fec-1c1f958fa45c"
      },
      "outputs": [],
      "source": [
        "# Define the function that computes the derivative of a(t) at any given time\n",
        "def friedman_eq(a, t, omega_m, omega_lambda, h0):\n",
        "    # Calculate the first derivative of a(t)\n",
        "    dadt = a * h0* np.sqrt(omega_m * a**(-3) + omega_lambda + (1 - omega_m - omega_lambda) * a**(-2))\n",
        "    return dadt"
      ]
    },
    {
      "cell_type": "markdown",
      "id": "50983fe5-b0c6-4351-bae9-928cde9523b1",
      "metadata": {
        "id": "50983fe5-b0c6-4351-bae9-928cde9523b1"
      },
      "source": [
        "### Plotting"
      ]
    },
    {
      "cell_type": "markdown",
      "id": "5156c9fd-92a8-4c64-9751-970142afdb56",
      "metadata": {
        "id": "5156c9fd-92a8-4c64-9751-970142afdb56"
      },
      "source": [
        "In Python, the scipy.integrate library provides the odeint function, a numerical solver for ordinary differential equations, which we can use to integrate the Friedman equation to solve for a(t). In the Jupyter notebook, we can use ipywidgets to create sliders for adjusting these parameters. The plot function generates a plot of the scale factor a(t) by substituting the adjusted parameters into the Friedman equation function and resolving for the scale factor."
      ]
    },
    {
      "cell_type": "code",
      "execution_count": null,
      "id": "39b9059b-10d1-49e5-a0a8-c268335cda73",
      "metadata": {
        "id": "39b9059b-10d1-49e5-a0a8-c268335cda73",
        "outputId": "318d1c2f-1227-4472-e04c-706f7faff4c6",
        "colab": {
          "base_uri": "https://localhost:8080/",
          "height": 746,
          "referenced_widgets": [
            "6fc73f9d57d549e48b295b258ee37ede",
            "65ade4ead005498fb54bff40daeeebb4",
            "87c065cc70dd4739a9e4db48d5c262c2",
            "9502c907b4eb45bd97cc42c51cb2dc85",
            "a98921f9ef984e949bca28132c7cbab0",
            "58c7b9eba8154e79919d96686bef4123",
            "090cf4e74a5448c6814650e1aee60e99",
            "78b7e053aaab45e58644be87e1952b46",
            "6f39a5f4d7bc46ebabb160d788a94509",
            "1c3c00fdf1b6460eaee0833f7ad08d51",
            "0002218a6b6849a59f2be2fc8ea4eda9",
            "5ad274f05a5942119267e1db4caade31",
            "1c67fc1db25643b4bf8a71bed15781c3"
          ]
        }
      },
      "outputs": [
        {
          "output_type": "display_data",
          "data": {
            "text/plain": [
              "interactive(children=(FloatSlider(value=0.3, description='$\\\\Omega_m$', max=1.0, step=0.01), FloatSlider(value…"
            ],
            "application/vnd.jupyter.widget-view+json": {
              "version_major": 2,
              "version_minor": 0,
              "model_id": "6fc73f9d57d549e48b295b258ee37ede"
            }
          },
          "metadata": {}
        },
        {
          "output_type": "execute_result",
          "data": {
            "text/plain": [
              "<function __main__.plot_cosmic_dynamics(omega_m, omega_lambda, h0)>"
            ],
            "text/html": [
              "<div style=\"max-width:800px; border: 1px solid var(--colab-border-color);\"><style>\n",
              "      pre.function-repr-contents {\n",
              "        overflow-x: auto;\n",
              "        padding: 8px 12px;\n",
              "        max-height: 500px;\n",
              "      }\n",
              "\n",
              "      pre.function-repr-contents.function-repr-contents-collapsed {\n",
              "        cursor: pointer;\n",
              "        max-height: 100px;\n",
              "      }\n",
              "    </style>\n",
              "    <pre style=\"white-space: initial; background:\n",
              "         var(--colab-secondary-surface-color); padding: 8px 12px;\n",
              "         border-bottom: 1px solid var(--colab-border-color);\"><b>plot_cosmic_dynamics</b><br/>def plot_cosmic_dynamics(omega_m, omega_lambda, h0)</pre><pre class=\"function-repr-contents function-repr-contents-collapsed\" style=\"\"><a class=\"filepath\" style=\"display:none\" href=\"#\">/content/&lt;ipython-input-4-b27a96e715ff&gt;</a>&lt;no docstring&gt;</pre></div>"
            ]
          },
          "metadata": {},
          "execution_count": 4
        }
      ],
      "source": [
        "# Define a function to integrate the Friedman equation and plot the results\n",
        "def plot_cosmic_dynamics(omega_m, omega_lambda, h0):\n",
        "    # Initial conditions: a(0) = 0.01 (close to Big Bang), derivative should be positive (expanding universe)\n",
        "    a0 = 0.01\n",
        "    t = np.linspace(0, 13.8, 1000)  # Time array from 0 to 13.8 billion years\n",
        "\n",
        "    # Integrate the Friedman equation using odeint\n",
        "    a = odeint(friedman_eq, a0, t, args=(omega_m, omega_lambda, h0))\n",
        "\n",
        "    # Convert time from billions of years to seconds (1 billion years = 3.154e16 seconds)\n",
        "    t_seconds = t * 3.154e16\n",
        "\n",
        "    # Plot the scale factor a(t)\n",
        "    plt.figure(figsize=(10, 6))\n",
        "    plt.plot(t, a)\n",
        "    plt.title('Scale Factor a(t) over Time')\n",
        "    plt.xlabel('Time (billion years)')\n",
        "    plt.ylabel('Scale Factor a(t)')\n",
        "    plt.grid(True)\n",
        "    plt.show()\n",
        "\n",
        "# Create interactive sliders for omega_m, omega_lambda, and h0\n",
        "omega_m_slider = widgets.FloatSlider(value=0.3, min=0.0, max=1.0, step=0.01, description=r'$\\Omega_m$')\n",
        "omega_lambda_slider = widgets.FloatSlider(value=0.7, min=0.0, max=1.0, step=0.01, description=r'$\\Omega_\\Lambda$')\n",
        "h0_slider = widgets.FloatSlider(value=0.7, min=0.1, max=1.0, step=0.01, description=r'$H_0$ (fraction of current value)')\n",
        "\n",
        "# Use interact to create an interactive plot\n",
        "interact(plot_cosmic_dynamics, omega_m=omega_m_slider, omega_lambda=omega_lambda_slider, h0=h0_slider)"
      ]
    }
  ],
  "metadata": {
    "kernelspec": {
      "display_name": "Python 3 (ipykernel)",
      "language": "python",
      "name": "python3"
    },
    "language_info": {
      "codemirror_mode": {
        "name": "ipython",
        "version": 3
      },
      "file_extension": ".py",
      "mimetype": "text/x-python",
      "name": "python",
      "nbconvert_exporter": "python",
      "pygments_lexer": "ipython3",
      "version": "3.9.15"
    },
    "colab": {
      "provenance": []
    },
    "widgets": {
      "application/vnd.jupyter.widget-state+json": {
        "6fc73f9d57d549e48b295b258ee37ede": {
          "model_module": "@jupyter-widgets/controls",
          "model_name": "VBoxModel",
          "model_module_version": "1.5.0",
          "state": {
            "_dom_classes": [
              "widget-interact"
            ],
            "_model_module": "@jupyter-widgets/controls",
            "_model_module_version": "1.5.0",
            "_model_name": "VBoxModel",
            "_view_count": null,
            "_view_module": "@jupyter-widgets/controls",
            "_view_module_version": "1.5.0",
            "_view_name": "VBoxView",
            "box_style": "",
            "children": [
              "IPY_MODEL_65ade4ead005498fb54bff40daeeebb4",
              "IPY_MODEL_87c065cc70dd4739a9e4db48d5c262c2",
              "IPY_MODEL_9502c907b4eb45bd97cc42c51cb2dc85",
              "IPY_MODEL_a98921f9ef984e949bca28132c7cbab0"
            ],
            "layout": "IPY_MODEL_58c7b9eba8154e79919d96686bef4123"
          }
        },
        "65ade4ead005498fb54bff40daeeebb4": {
          "model_module": "@jupyter-widgets/controls",
          "model_name": "FloatSliderModel",
          "model_module_version": "1.5.0",
          "state": {
            "_dom_classes": [],
            "_model_module": "@jupyter-widgets/controls",
            "_model_module_version": "1.5.0",
            "_model_name": "FloatSliderModel",
            "_view_count": null,
            "_view_module": "@jupyter-widgets/controls",
            "_view_module_version": "1.5.0",
            "_view_name": "FloatSliderView",
            "continuous_update": true,
            "description": "$\\Omega_m$",
            "description_tooltip": null,
            "disabled": false,
            "layout": "IPY_MODEL_090cf4e74a5448c6814650e1aee60e99",
            "max": 1,
            "min": 0,
            "orientation": "horizontal",
            "readout": true,
            "readout_format": ".2f",
            "step": 0.01,
            "style": "IPY_MODEL_78b7e053aaab45e58644be87e1952b46",
            "value": 0.3
          }
        },
        "87c065cc70dd4739a9e4db48d5c262c2": {
          "model_module": "@jupyter-widgets/controls",
          "model_name": "FloatSliderModel",
          "model_module_version": "1.5.0",
          "state": {
            "_dom_classes": [],
            "_model_module": "@jupyter-widgets/controls",
            "_model_module_version": "1.5.0",
            "_model_name": "FloatSliderModel",
            "_view_count": null,
            "_view_module": "@jupyter-widgets/controls",
            "_view_module_version": "1.5.0",
            "_view_name": "FloatSliderView",
            "continuous_update": true,
            "description": "$\\Omega_\\Lambda$",
            "description_tooltip": null,
            "disabled": false,
            "layout": "IPY_MODEL_6f39a5f4d7bc46ebabb160d788a94509",
            "max": 1,
            "min": 0,
            "orientation": "horizontal",
            "readout": true,
            "readout_format": ".2f",
            "step": 0.01,
            "style": "IPY_MODEL_1c3c00fdf1b6460eaee0833f7ad08d51",
            "value": 0.7
          }
        },
        "9502c907b4eb45bd97cc42c51cb2dc85": {
          "model_module": "@jupyter-widgets/controls",
          "model_name": "FloatSliderModel",
          "model_module_version": "1.5.0",
          "state": {
            "_dom_classes": [],
            "_model_module": "@jupyter-widgets/controls",
            "_model_module_version": "1.5.0",
            "_model_name": "FloatSliderModel",
            "_view_count": null,
            "_view_module": "@jupyter-widgets/controls",
            "_view_module_version": "1.5.0",
            "_view_name": "FloatSliderView",
            "continuous_update": true,
            "description": "$H_0$ (fraction of current value)",
            "description_tooltip": null,
            "disabled": false,
            "layout": "IPY_MODEL_0002218a6b6849a59f2be2fc8ea4eda9",
            "max": 1,
            "min": 0.1,
            "orientation": "horizontal",
            "readout": true,
            "readout_format": ".2f",
            "step": 0.01,
            "style": "IPY_MODEL_5ad274f05a5942119267e1db4caade31",
            "value": 0.7
          }
        },
        "a98921f9ef984e949bca28132c7cbab0": {
          "model_module": "@jupyter-widgets/output",
          "model_name": "OutputModel",
          "model_module_version": "1.0.0",
          "state": {
            "_dom_classes": [],
            "_model_module": "@jupyter-widgets/output",
            "_model_module_version": "1.0.0",
            "_model_name": "OutputModel",
            "_view_count": null,
            "_view_module": "@jupyter-widgets/output",
            "_view_module_version": "1.0.0",
            "_view_name": "OutputView",
            "layout": "IPY_MODEL_1c67fc1db25643b4bf8a71bed15781c3",
            "msg_id": "",
            "outputs": [
              {
                "output_type": "display_data",
                "data": {
                  "text/plain": "<Figure size 1000x600 with 1 Axes>",
                  "image/png": "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\n"
                },
                "metadata": {}
              }
            ]
          }
        },
        "58c7b9eba8154e79919d96686bef4123": {
          "model_module": "@jupyter-widgets/base",
          "model_name": "LayoutModel",
          "model_module_version": "1.2.0",
          "state": {
            "_model_module": "@jupyter-widgets/base",
            "_model_module_version": "1.2.0",
            "_model_name": "LayoutModel",
            "_view_count": null,
            "_view_module": "@jupyter-widgets/base",
            "_view_module_version": "1.2.0",
            "_view_name": "LayoutView",
            "align_content": null,
            "align_items": null,
            "align_self": null,
            "border": null,
            "bottom": null,
            "display": null,
            "flex": null,
            "flex_flow": null,
            "grid_area": null,
            "grid_auto_columns": null,
            "grid_auto_flow": null,
            "grid_auto_rows": null,
            "grid_column": null,
            "grid_gap": null,
            "grid_row": null,
            "grid_template_areas": null,
            "grid_template_columns": null,
            "grid_template_rows": null,
            "height": null,
            "justify_content": null,
            "justify_items": null,
            "left": null,
            "margin": null,
            "max_height": null,
            "max_width": null,
            "min_height": null,
            "min_width": null,
            "object_fit": null,
            "object_position": null,
            "order": null,
            "overflow": null,
            "overflow_x": null,
            "overflow_y": null,
            "padding": null,
            "right": null,
            "top": null,
            "visibility": null,
            "width": null
          }
        },
        "090cf4e74a5448c6814650e1aee60e99": {
          "model_module": "@jupyter-widgets/base",
          "model_name": "LayoutModel",
          "model_module_version": "1.2.0",
          "state": {
            "_model_module": "@jupyter-widgets/base",
            "_model_module_version": "1.2.0",
            "_model_name": "LayoutModel",
            "_view_count": null,
            "_view_module": "@jupyter-widgets/base",
            "_view_module_version": "1.2.0",
            "_view_name": "LayoutView",
            "align_content": null,
            "align_items": null,
            "align_self": null,
            "border": null,
            "bottom": null,
            "display": null,
            "flex": null,
            "flex_flow": null,
            "grid_area": null,
            "grid_auto_columns": null,
            "grid_auto_flow": null,
            "grid_auto_rows": null,
            "grid_column": null,
            "grid_gap": null,
            "grid_row": null,
            "grid_template_areas": null,
            "grid_template_columns": null,
            "grid_template_rows": null,
            "height": null,
            "justify_content": null,
            "justify_items": null,
            "left": null,
            "margin": null,
            "max_height": null,
            "max_width": null,
            "min_height": null,
            "min_width": null,
            "object_fit": null,
            "object_position": null,
            "order": null,
            "overflow": null,
            "overflow_x": null,
            "overflow_y": null,
            "padding": null,
            "right": null,
            "top": null,
            "visibility": null,
            "width": null
          }
        },
        "78b7e053aaab45e58644be87e1952b46": {
          "model_module": "@jupyter-widgets/controls",
          "model_name": "SliderStyleModel",
          "model_module_version": "1.5.0",
          "state": {
            "_model_module": "@jupyter-widgets/controls",
            "_model_module_version": "1.5.0",
            "_model_name": "SliderStyleModel",
            "_view_count": null,
            "_view_module": "@jupyter-widgets/base",
            "_view_module_version": "1.2.0",
            "_view_name": "StyleView",
            "description_width": "",
            "handle_color": null
          }
        },
        "6f39a5f4d7bc46ebabb160d788a94509": {
          "model_module": "@jupyter-widgets/base",
          "model_name": "LayoutModel",
          "model_module_version": "1.2.0",
          "state": {
            "_model_module": "@jupyter-widgets/base",
            "_model_module_version": "1.2.0",
            "_model_name": "LayoutModel",
            "_view_count": null,
            "_view_module": "@jupyter-widgets/base",
            "_view_module_version": "1.2.0",
            "_view_name": "LayoutView",
            "align_content": null,
            "align_items": null,
            "align_self": null,
            "border": null,
            "bottom": null,
            "display": null,
            "flex": null,
            "flex_flow": null,
            "grid_area": null,
            "grid_auto_columns": null,
            "grid_auto_flow": null,
            "grid_auto_rows": null,
            "grid_column": null,
            "grid_gap": null,
            "grid_row": null,
            "grid_template_areas": null,
            "grid_template_columns": null,
            "grid_template_rows": null,
            "height": null,
            "justify_content": null,
            "justify_items": null,
            "left": null,
            "margin": null,
            "max_height": null,
            "max_width": null,
            "min_height": null,
            "min_width": null,
            "object_fit": null,
            "object_position": null,
            "order": null,
            "overflow": null,
            "overflow_x": null,
            "overflow_y": null,
            "padding": null,
            "right": null,
            "top": null,
            "visibility": null,
            "width": null
          }
        },
        "1c3c00fdf1b6460eaee0833f7ad08d51": {
          "model_module": "@jupyter-widgets/controls",
          "model_name": "SliderStyleModel",
          "model_module_version": "1.5.0",
          "state": {
            "_model_module": "@jupyter-widgets/controls",
            "_model_module_version": "1.5.0",
            "_model_name": "SliderStyleModel",
            "_view_count": null,
            "_view_module": "@jupyter-widgets/base",
            "_view_module_version": "1.2.0",
            "_view_name": "StyleView",
            "description_width": "",
            "handle_color": null
          }
        },
        "0002218a6b6849a59f2be2fc8ea4eda9": {
          "model_module": "@jupyter-widgets/base",
          "model_name": "LayoutModel",
          "model_module_version": "1.2.0",
          "state": {
            "_model_module": "@jupyter-widgets/base",
            "_model_module_version": "1.2.0",
            "_model_name": "LayoutModel",
            "_view_count": null,
            "_view_module": "@jupyter-widgets/base",
            "_view_module_version": "1.2.0",
            "_view_name": "LayoutView",
            "align_content": null,
            "align_items": null,
            "align_self": null,
            "border": null,
            "bottom": null,
            "display": null,
            "flex": null,
            "flex_flow": null,
            "grid_area": null,
            "grid_auto_columns": null,
            "grid_auto_flow": null,
            "grid_auto_rows": null,
            "grid_column": null,
            "grid_gap": null,
            "grid_row": null,
            "grid_template_areas": null,
            "grid_template_columns": null,
            "grid_template_rows": null,
            "height": null,
            "justify_content": null,
            "justify_items": null,
            "left": null,
            "margin": null,
            "max_height": null,
            "max_width": null,
            "min_height": null,
            "min_width": null,
            "object_fit": null,
            "object_position": null,
            "order": null,
            "overflow": null,
            "overflow_x": null,
            "overflow_y": null,
            "padding": null,
            "right": null,
            "top": null,
            "visibility": null,
            "width": null
          }
        },
        "5ad274f05a5942119267e1db4caade31": {
          "model_module": "@jupyter-widgets/controls",
          "model_name": "SliderStyleModel",
          "model_module_version": "1.5.0",
          "state": {
            "_model_module": "@jupyter-widgets/controls",
            "_model_module_version": "1.5.0",
            "_model_name": "SliderStyleModel",
            "_view_count": null,
            "_view_module": "@jupyter-widgets/base",
            "_view_module_version": "1.2.0",
            "_view_name": "StyleView",
            "description_width": "",
            "handle_color": null
          }
        },
        "1c67fc1db25643b4bf8a71bed15781c3": {
          "model_module": "@jupyter-widgets/base",
          "model_name": "LayoutModel",
          "model_module_version": "1.2.0",
          "state": {
            "_model_module": "@jupyter-widgets/base",
            "_model_module_version": "1.2.0",
            "_model_name": "LayoutModel",
            "_view_count": null,
            "_view_module": "@jupyter-widgets/base",
            "_view_module_version": "1.2.0",
            "_view_name": "LayoutView",
            "align_content": null,
            "align_items": null,
            "align_self": null,
            "border": null,
            "bottom": null,
            "display": null,
            "flex": null,
            "flex_flow": null,
            "grid_area": null,
            "grid_auto_columns": null,
            "grid_auto_flow": null,
            "grid_auto_rows": null,
            "grid_column": null,
            "grid_gap": null,
            "grid_row": null,
            "grid_template_areas": null,
            "grid_template_columns": null,
            "grid_template_rows": null,
            "height": null,
            "justify_content": null,
            "justify_items": null,
            "left": null,
            "margin": null,
            "max_height": null,
            "max_width": null,
            "min_height": null,
            "min_width": null,
            "object_fit": null,
            "object_position": null,
            "order": null,
            "overflow": null,
            "overflow_x": null,
            "overflow_y": null,
            "padding": null,
            "right": null,
            "top": null,
            "visibility": null,
            "width": null
          }
        }
      }
    }
  },
  "nbformat": 4,
  "nbformat_minor": 5
}